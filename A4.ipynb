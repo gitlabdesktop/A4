{
  "nbformat": 4,
  "nbformat_minor": 0,
  "metadata": {
    "colab": {
      "provenance": []
    },
    "kernelspec": {
      "name": "python3",
      "display_name": "Python 3"
    },
    "language_info": {
      "name": "python"
    }
  },
  "cells": [
    {
      "cell_type": "code",
      "execution_count": 180,
      "metadata": {
        "id": "PUC_6A7qPmKD"
      },
      "outputs": [],
      "source": [
        "#import required libraries\n",
        "# numpy\n",
        "# seaborn\n",
        "# matplotlib\n",
        "# pandas\n",
        "# train_test_split\n",
        "# StandardScaler\n",
        "\n",
        "import numpy as np\n",
        "import pandas as pd\n",
        "import matplotlib.pyplot as plt\n",
        "import seaborn as sns\n",
        "from sklearn.model_selection import train_test_split\n",
        "from sklearn.preprocessing import StandardScaler\n",
        "%matplotlib inline"
      ]
    },
    {
      "cell_type": "code",
      "source": [
        "from google.colab import drive\n",
        "drive.mount('./mount')\n",
        "df = pd.read_csv(\"mount/My Drive/creditcard.csv\")"
      ],
      "metadata": {
        "colab": {
          "base_uri": "https://localhost:8080/"
        },
        "id": "uXFolhC0Po3B",
        "outputId": "0dc276e4-e256-4d4e-c5eb-59e692d79d15"
      },
      "execution_count": 181,
      "outputs": [
        {
          "output_type": "stream",
          "name": "stdout",
          "text": [
            "Drive already mounted at ./mount; to attempt to forcibly remount, call drive.mount(\"./mount\", force_remount=True).\n"
          ]
        }
      ]
    },
    {
      "cell_type": "code",
      "source": [
        "df2= df.drop(['Time'],axis=1)\n",
        "\n",
        "xtrain , xtest = train_test_split(df2,test_size=0.2,random_state=27)\n",
        "#xtrain=xtrain[xtrain.Class==0]"
      ],
      "metadata": {
        "id": "7BqgWt0HQX3R"
      },
      "execution_count": 182,
      "outputs": []
    },
    {
      "cell_type": "code",
      "source": [
        "xtrain=xtrain.drop(['Class'],axis=1)\n",
        "ytest=xtest['Class']\n",
        "xtest=xtest.drop(['Class'],axis=1)\n",
        "ytest = [ytest== 1]\n",
        "#error_df_false=error_df[(error_df.true_class==1)]"
      ],
      "metadata": {
        "colab": {
          "base_uri": "https://localhost:8080/",
          "height": 373
        },
        "id": "bR-VhRHHQ4fY",
        "outputId": "693d4c7b-3181-45a6-f966-d998fd49d92f"
      },
      "execution_count": 184,
      "outputs": [
        {
          "output_type": "error",
          "ename": "KeyError",
          "evalue": "ignored",
          "traceback": [
            "\u001b[0;31m---------------------------------------------------------------------------\u001b[0m",
            "\u001b[0;31mKeyError\u001b[0m                                  Traceback (most recent call last)",
            "\u001b[0;32m<ipython-input-184-10a292b551d3>\u001b[0m in \u001b[0;36m<cell line: 1>\u001b[0;34m()\u001b[0m\n\u001b[0;32m----> 1\u001b[0;31m \u001b[0mxtrain\u001b[0m\u001b[0;34m=\u001b[0m\u001b[0mxtrain\u001b[0m\u001b[0;34m.\u001b[0m\u001b[0mdrop\u001b[0m\u001b[0;34m(\u001b[0m\u001b[0;34m[\u001b[0m\u001b[0;34m'Class'\u001b[0m\u001b[0;34m]\u001b[0m\u001b[0;34m,\u001b[0m\u001b[0maxis\u001b[0m\u001b[0;34m=\u001b[0m\u001b[0;36m1\u001b[0m\u001b[0;34m)\u001b[0m\u001b[0;34m\u001b[0m\u001b[0;34m\u001b[0m\u001b[0m\n\u001b[0m\u001b[1;32m      2\u001b[0m \u001b[0mytest\u001b[0m\u001b[0;34m=\u001b[0m\u001b[0mxtest\u001b[0m\u001b[0;34m[\u001b[0m\u001b[0;34m'Class'\u001b[0m\u001b[0;34m]\u001b[0m\u001b[0;34m\u001b[0m\u001b[0;34m\u001b[0m\u001b[0m\n\u001b[1;32m      3\u001b[0m \u001b[0mxtest\u001b[0m\u001b[0;34m=\u001b[0m\u001b[0mxtest\u001b[0m\u001b[0;34m.\u001b[0m\u001b[0mdrop\u001b[0m\u001b[0;34m(\u001b[0m\u001b[0;34m[\u001b[0m\u001b[0;34m'Class'\u001b[0m\u001b[0;34m]\u001b[0m\u001b[0;34m,\u001b[0m\u001b[0maxis\u001b[0m\u001b[0;34m=\u001b[0m\u001b[0;36m1\u001b[0m\u001b[0;34m)\u001b[0m\u001b[0;34m\u001b[0m\u001b[0;34m\u001b[0m\u001b[0m\n\u001b[1;32m      4\u001b[0m \u001b[0mytest\u001b[0m \u001b[0;34m=\u001b[0m \u001b[0mytest\u001b[0m\u001b[0;34m[\u001b[0m\u001b[0mytest\u001b[0m\u001b[0;34m==\u001b[0m \u001b[0;36m1\u001b[0m\u001b[0;34m]\u001b[0m\u001b[0;34m\u001b[0m\u001b[0;34m\u001b[0m\u001b[0m\n",
            "\u001b[0;32m/usr/local/lib/python3.10/dist-packages/pandas/util/_decorators.py\u001b[0m in \u001b[0;36mwrapper\u001b[0;34m(*args, **kwargs)\u001b[0m\n\u001b[1;32m    329\u001b[0m                     \u001b[0mstacklevel\u001b[0m\u001b[0;34m=\u001b[0m\u001b[0mfind_stack_level\u001b[0m\u001b[0;34m(\u001b[0m\u001b[0;34m)\u001b[0m\u001b[0;34m,\u001b[0m\u001b[0;34m\u001b[0m\u001b[0;34m\u001b[0m\u001b[0m\n\u001b[1;32m    330\u001b[0m                 )\n\u001b[0;32m--> 331\u001b[0;31m             \u001b[0;32mreturn\u001b[0m \u001b[0mfunc\u001b[0m\u001b[0;34m(\u001b[0m\u001b[0;34m*\u001b[0m\u001b[0margs\u001b[0m\u001b[0;34m,\u001b[0m \u001b[0;34m**\u001b[0m\u001b[0mkwargs\u001b[0m\u001b[0;34m)\u001b[0m\u001b[0;34m\u001b[0m\u001b[0;34m\u001b[0m\u001b[0m\n\u001b[0m\u001b[1;32m    332\u001b[0m \u001b[0;34m\u001b[0m\u001b[0m\n\u001b[1;32m    333\u001b[0m         \u001b[0;31m# error: \"Callable[[VarArg(Any), KwArg(Any)], Any]\" has no\u001b[0m\u001b[0;34m\u001b[0m\u001b[0;34m\u001b[0m\u001b[0m\n",
            "\u001b[0;32m/usr/local/lib/python3.10/dist-packages/pandas/core/frame.py\u001b[0m in \u001b[0;36mdrop\u001b[0;34m(self, labels, axis, index, columns, level, inplace, errors)\u001b[0m\n\u001b[1;32m   5397\u001b[0m                 \u001b[0mweight\u001b[0m  \u001b[0;36m1.0\u001b[0m     \u001b[0;36m0.8\u001b[0m\u001b[0;34m\u001b[0m\u001b[0;34m\u001b[0m\u001b[0m\n\u001b[1;32m   5398\u001b[0m         \"\"\"\n\u001b[0;32m-> 5399\u001b[0;31m         return super().drop(\n\u001b[0m\u001b[1;32m   5400\u001b[0m             \u001b[0mlabels\u001b[0m\u001b[0;34m=\u001b[0m\u001b[0mlabels\u001b[0m\u001b[0;34m,\u001b[0m\u001b[0;34m\u001b[0m\u001b[0;34m\u001b[0m\u001b[0m\n\u001b[1;32m   5401\u001b[0m             \u001b[0maxis\u001b[0m\u001b[0;34m=\u001b[0m\u001b[0maxis\u001b[0m\u001b[0;34m,\u001b[0m\u001b[0;34m\u001b[0m\u001b[0;34m\u001b[0m\u001b[0m\n",
            "\u001b[0;32m/usr/local/lib/python3.10/dist-packages/pandas/util/_decorators.py\u001b[0m in \u001b[0;36mwrapper\u001b[0;34m(*args, **kwargs)\u001b[0m\n\u001b[1;32m    329\u001b[0m                     \u001b[0mstacklevel\u001b[0m\u001b[0;34m=\u001b[0m\u001b[0mfind_stack_level\u001b[0m\u001b[0;34m(\u001b[0m\u001b[0;34m)\u001b[0m\u001b[0;34m,\u001b[0m\u001b[0;34m\u001b[0m\u001b[0;34m\u001b[0m\u001b[0m\n\u001b[1;32m    330\u001b[0m                 )\n\u001b[0;32m--> 331\u001b[0;31m             \u001b[0;32mreturn\u001b[0m \u001b[0mfunc\u001b[0m\u001b[0;34m(\u001b[0m\u001b[0;34m*\u001b[0m\u001b[0margs\u001b[0m\u001b[0;34m,\u001b[0m \u001b[0;34m**\u001b[0m\u001b[0mkwargs\u001b[0m\u001b[0;34m)\u001b[0m\u001b[0;34m\u001b[0m\u001b[0;34m\u001b[0m\u001b[0m\n\u001b[0m\u001b[1;32m    332\u001b[0m \u001b[0;34m\u001b[0m\u001b[0m\n\u001b[1;32m    333\u001b[0m         \u001b[0;31m# error: \"Callable[[VarArg(Any), KwArg(Any)], Any]\" has no\u001b[0m\u001b[0;34m\u001b[0m\u001b[0;34m\u001b[0m\u001b[0m\n",
            "\u001b[0;32m/usr/local/lib/python3.10/dist-packages/pandas/core/generic.py\u001b[0m in \u001b[0;36mdrop\u001b[0;34m(self, labels, axis, index, columns, level, inplace, errors)\u001b[0m\n\u001b[1;32m   4503\u001b[0m         \u001b[0;32mfor\u001b[0m \u001b[0maxis\u001b[0m\u001b[0;34m,\u001b[0m \u001b[0mlabels\u001b[0m \u001b[0;32min\u001b[0m \u001b[0maxes\u001b[0m\u001b[0;34m.\u001b[0m\u001b[0mitems\u001b[0m\u001b[0;34m(\u001b[0m\u001b[0;34m)\u001b[0m\u001b[0;34m:\u001b[0m\u001b[0;34m\u001b[0m\u001b[0;34m\u001b[0m\u001b[0m\n\u001b[1;32m   4504\u001b[0m             \u001b[0;32mif\u001b[0m \u001b[0mlabels\u001b[0m \u001b[0;32mis\u001b[0m \u001b[0;32mnot\u001b[0m \u001b[0;32mNone\u001b[0m\u001b[0;34m:\u001b[0m\u001b[0;34m\u001b[0m\u001b[0;34m\u001b[0m\u001b[0m\n\u001b[0;32m-> 4505\u001b[0;31m                 \u001b[0mobj\u001b[0m \u001b[0;34m=\u001b[0m \u001b[0mobj\u001b[0m\u001b[0;34m.\u001b[0m\u001b[0m_drop_axis\u001b[0m\u001b[0;34m(\u001b[0m\u001b[0mlabels\u001b[0m\u001b[0;34m,\u001b[0m \u001b[0maxis\u001b[0m\u001b[0;34m,\u001b[0m \u001b[0mlevel\u001b[0m\u001b[0;34m=\u001b[0m\u001b[0mlevel\u001b[0m\u001b[0;34m,\u001b[0m \u001b[0merrors\u001b[0m\u001b[0;34m=\u001b[0m\u001b[0merrors\u001b[0m\u001b[0;34m)\u001b[0m\u001b[0;34m\u001b[0m\u001b[0;34m\u001b[0m\u001b[0m\n\u001b[0m\u001b[1;32m   4506\u001b[0m \u001b[0;34m\u001b[0m\u001b[0m\n\u001b[1;32m   4507\u001b[0m         \u001b[0;32mif\u001b[0m \u001b[0minplace\u001b[0m\u001b[0;34m:\u001b[0m\u001b[0;34m\u001b[0m\u001b[0;34m\u001b[0m\u001b[0m\n",
            "\u001b[0;32m/usr/local/lib/python3.10/dist-packages/pandas/core/generic.py\u001b[0m in \u001b[0;36m_drop_axis\u001b[0;34m(self, labels, axis, level, errors, only_slice)\u001b[0m\n\u001b[1;32m   4544\u001b[0m                 \u001b[0mnew_axis\u001b[0m \u001b[0;34m=\u001b[0m \u001b[0maxis\u001b[0m\u001b[0;34m.\u001b[0m\u001b[0mdrop\u001b[0m\u001b[0;34m(\u001b[0m\u001b[0mlabels\u001b[0m\u001b[0;34m,\u001b[0m \u001b[0mlevel\u001b[0m\u001b[0;34m=\u001b[0m\u001b[0mlevel\u001b[0m\u001b[0;34m,\u001b[0m \u001b[0merrors\u001b[0m\u001b[0;34m=\u001b[0m\u001b[0merrors\u001b[0m\u001b[0;34m)\u001b[0m\u001b[0;34m\u001b[0m\u001b[0;34m\u001b[0m\u001b[0m\n\u001b[1;32m   4545\u001b[0m             \u001b[0;32melse\u001b[0m\u001b[0;34m:\u001b[0m\u001b[0;34m\u001b[0m\u001b[0;34m\u001b[0m\u001b[0m\n\u001b[0;32m-> 4546\u001b[0;31m                 \u001b[0mnew_axis\u001b[0m \u001b[0;34m=\u001b[0m \u001b[0maxis\u001b[0m\u001b[0;34m.\u001b[0m\u001b[0mdrop\u001b[0m\u001b[0;34m(\u001b[0m\u001b[0mlabels\u001b[0m\u001b[0;34m,\u001b[0m \u001b[0merrors\u001b[0m\u001b[0;34m=\u001b[0m\u001b[0merrors\u001b[0m\u001b[0;34m)\u001b[0m\u001b[0;34m\u001b[0m\u001b[0;34m\u001b[0m\u001b[0m\n\u001b[0m\u001b[1;32m   4547\u001b[0m             \u001b[0mindexer\u001b[0m \u001b[0;34m=\u001b[0m \u001b[0maxis\u001b[0m\u001b[0;34m.\u001b[0m\u001b[0mget_indexer\u001b[0m\u001b[0;34m(\u001b[0m\u001b[0mnew_axis\u001b[0m\u001b[0;34m)\u001b[0m\u001b[0;34m\u001b[0m\u001b[0;34m\u001b[0m\u001b[0m\n\u001b[1;32m   4548\u001b[0m \u001b[0;34m\u001b[0m\u001b[0m\n",
            "\u001b[0;32m/usr/local/lib/python3.10/dist-packages/pandas/core/indexes/base.py\u001b[0m in \u001b[0;36mdrop\u001b[0;34m(self, labels, errors)\u001b[0m\n\u001b[1;32m   6932\u001b[0m         \u001b[0;32mif\u001b[0m \u001b[0mmask\u001b[0m\u001b[0;34m.\u001b[0m\u001b[0many\u001b[0m\u001b[0;34m(\u001b[0m\u001b[0;34m)\u001b[0m\u001b[0;34m:\u001b[0m\u001b[0;34m\u001b[0m\u001b[0;34m\u001b[0m\u001b[0m\n\u001b[1;32m   6933\u001b[0m             \u001b[0;32mif\u001b[0m \u001b[0merrors\u001b[0m \u001b[0;34m!=\u001b[0m \u001b[0;34m\"ignore\"\u001b[0m\u001b[0;34m:\u001b[0m\u001b[0;34m\u001b[0m\u001b[0;34m\u001b[0m\u001b[0m\n\u001b[0;32m-> 6934\u001b[0;31m                 \u001b[0;32mraise\u001b[0m \u001b[0mKeyError\u001b[0m\u001b[0;34m(\u001b[0m\u001b[0;34mf\"{list(labels[mask])} not found in axis\"\u001b[0m\u001b[0;34m)\u001b[0m\u001b[0;34m\u001b[0m\u001b[0;34m\u001b[0m\u001b[0m\n\u001b[0m\u001b[1;32m   6935\u001b[0m             \u001b[0mindexer\u001b[0m \u001b[0;34m=\u001b[0m \u001b[0mindexer\u001b[0m\u001b[0;34m[\u001b[0m\u001b[0;34m~\u001b[0m\u001b[0mmask\u001b[0m\u001b[0;34m]\u001b[0m\u001b[0;34m\u001b[0m\u001b[0;34m\u001b[0m\u001b[0m\n\u001b[1;32m   6936\u001b[0m         \u001b[0;32mreturn\u001b[0m \u001b[0mself\u001b[0m\u001b[0;34m.\u001b[0m\u001b[0mdelete\u001b[0m\u001b[0;34m(\u001b[0m\u001b[0mindexer\u001b[0m\u001b[0;34m)\u001b[0m\u001b[0;34m\u001b[0m\u001b[0;34m\u001b[0m\u001b[0m\n",
            "\u001b[0;31mKeyError\u001b[0m: \"['Class'] not found in axis\""
          ]
        }
      ]
    },
    {
      "cell_type": "code",
      "source": [
        "mean = xtrain.mean(axis=0)\n",
        "std  = xtrain.std(axis=0)"
      ],
      "metadata": {
        "id": "WtxZcAEpmIb3"
      },
      "execution_count": 164,
      "outputs": []
    },
    {
      "cell_type": "code",
      "source": [
        "xtrain=(xtrain-mean)/std\n",
        "xtest =(xtest-mean)/std"
      ],
      "metadata": {
        "id": "1EmnXyRERfyj"
      },
      "execution_count": 165,
      "outputs": []
    },
    {
      "cell_type": "code",
      "source": [
        "xtrain = xtrain.to_numpy()\n",
        "xtest=xtest.to_numpy()\n",
        "ytest=ytest.to_numpy()"
      ],
      "metadata": {
        "id": "OSrjjaneR8Hv"
      },
      "execution_count": 166,
      "outputs": []
    },
    {
      "cell_type": "code",
      "source": [
        "print(np.mean(xtrain,axis=0))\n",
        "print(np.std(xtrain,axis=0))\n",
        "print(np.mean(xtest,axis=0))\n",
        "print(np.std(xtest,axis=0))"
      ],
      "metadata": {
        "colab": {
          "base_uri": "https://localhost:8080/"
        },
        "id": "2kmzeFgrmes8",
        "outputId": "8367fef8-0dfc-42f9-83c9-1b32fc9684a1"
      },
      "execution_count": 167,
      "outputs": [
        {
          "output_type": "stream",
          "name": "stdout",
          "text": [
            "[-9.51153347e-18 -3.77342803e-18 -5.48862259e-18 -2.37008703e-17\n",
            "  9.54271883e-18 -4.24120837e-18  2.24534561e-17  4.86491548e-18\n",
            " -3.67987197e-18 -7.79633891e-18 -2.60709573e-17 -2.18297490e-19\n",
            " -1.04782795e-17 -4.24120837e-18 -1.25365130e-17 -1.43452636e-17\n",
            " -1.02911674e-18  2.55719916e-18 -7.17263180e-19  1.37215565e-18\n",
            "  5.58217866e-18  1.30978494e-17 -4.24120837e-18  3.41479644e-18\n",
            " -4.52187657e-18 -8.66952887e-18  0.00000000e+00  3.11853556e-19\n",
            " -8.07077004e-17]\n",
            "[0.99999781 0.99999781 0.99999781 0.99999781 0.99999781 0.99999781\n",
            " 0.99999781 0.99999781 0.99999781 0.99999781 0.99999781 0.99999781\n",
            " 0.99999781 0.99999781 0.99999781 0.99999781 0.99999781 0.99999781\n",
            " 0.99999781 0.99999781 0.99999781 0.99999781 0.99999781 0.99999781\n",
            " 0.99999781 0.99999781 0.99999781 0.99999781 0.99999781]\n",
            "[-5.30160921e-03  2.97571410e-03  4.83073788e-03 -8.97714841e-03\n",
            "  6.15737560e-03  2.68480049e-04 -6.74065248e-04 -1.61998484e-03\n",
            " -3.28962520e-03 -3.88300025e-03  8.30461440e-03  1.14895670e-02\n",
            "  3.75110492e-03  3.49512544e-03  8.36850714e-04  4.99798311e-03\n",
            " -1.12627384e-02 -2.34531812e-03  7.46578799e-03  3.60934862e-05\n",
            " -6.18443296e-03 -5.25927672e-03 -4.12472804e-03  8.98622827e-04\n",
            " -1.73067615e-04  5.39063014e-03 -5.47284759e-03  3.97615560e-03\n",
            " -5.39216283e-03]\n",
            "[1.01098255 1.0166578  0.99336827 1.00215138 1.0010398  1.0022316\n",
            " 0.988419   0.99397278 0.99220125 0.99906968 0.99502629 1.00011738\n",
            " 0.99234601 0.99153396 0.99696441 0.99479586 0.98976094 1.00017283\n",
            " 0.99633997 1.01155593 0.98996693 1.00300265 1.06204808 1.00047728\n",
            " 0.9995592  0.99708915 0.99299207 1.02151327 0.9920399 ]\n"
          ]
        }
      ]
    },
    {
      "cell_type": "code",
      "source": [
        "from tensorflow.keras.layers import Input , Dense\n",
        "from tensorflow.keras.models import Model\n",
        "\n",
        "#parameters\n",
        "batch_size=100\n",
        "epochs=10\n",
        "intermediate_dim1 =20\n",
        "intermediate_dim2 =10\n",
        "latent_dim=5\n",
        "original_dim=29\n",
        "epsilon_std=1.0"
      ],
      "metadata": {
        "id": "OAvufA0TSKC_"
      },
      "execution_count": 168,
      "outputs": []
    },
    {
      "cell_type": "markdown",
      "source": [
        "Encoder"
      ],
      "metadata": {
        "id": "ivilRhvwS-Vi"
      }
    },
    {
      "cell_type": "code",
      "source": [
        "input_layer=Input(shape=(original_dim,),name=\"input_layer\")\n",
        "dense_layer1=Dense(intermediate_dim1,activation='tanh',name=\"dense_layer1\")(input_layer)\n",
        "dense_layer2=Dense(intermediate_dim2,activation='relu',name=\"dense_layer2\")(dense_layer1)\n",
        "dense_layer3=Dense(latent_dim,activation='relu',name=\"dense_layer3\")(dense_layer2)\n",
        "#encoder=Model(input_layer,dense_layer3,name=\"encoder\")\n",
        "encoder = Model(input_layer, dense_layer3, name=\"encoder\")\n",
        "encoder.summary()"
      ],
      "metadata": {
        "colab": {
          "base_uri": "https://localhost:8080/"
        },
        "id": "fhY3HcfUSiU_",
        "outputId": "75b53028-383b-4a29-956d-8253c2d69006"
      },
      "execution_count": 169,
      "outputs": [
        {
          "output_type": "stream",
          "name": "stdout",
          "text": [
            "Model: \"encoder\"\n",
            "_________________________________________________________________\n",
            " Layer (type)                Output Shape              Param #   \n",
            "=================================================================\n",
            " input_layer (InputLayer)    [(None, 29)]              0         \n",
            "                                                                 \n",
            " dense_layer1 (Dense)        (None, 20)                600       \n",
            "                                                                 \n",
            " dense_layer2 (Dense)        (None, 10)                210       \n",
            "                                                                 \n",
            " dense_layer3 (Dense)        (None, 5)                 55        \n",
            "                                                                 \n",
            "=================================================================\n",
            "Total params: 865 (3.38 KB)\n",
            "Trainable params: 865 (3.38 KB)\n",
            "Non-trainable params: 0 (0.00 Byte)\n",
            "_________________________________________________________________\n"
          ]
        }
      ]
    },
    {
      "cell_type": "markdown",
      "source": [
        "Decoder"
      ],
      "metadata": {
        "id": "zo9qolO-Uanq"
      }
    },
    {
      "cell_type": "code",
      "source": [
        "decoder_input=Input(shape=(latent_dim,))\n",
        "decoder_d1=Dense(intermediate_dim2,activation='relu')(decoder_input)\n",
        "decoder_d2=Dense(intermediate_dim1,activation='relu')(decoder_d1)\n",
        "decoder_d3=Dense(original_dim,activation='tanh')(decoder_d2)\n",
        "decoder=Model(decoder_input,decoder_d3)\n",
        "decoder.summary()"
      ],
      "metadata": {
        "colab": {
          "base_uri": "https://localhost:8080/"
        },
        "id": "ZWRUZf8gToiY",
        "outputId": "c6aaaeb0-fcbc-4122-8e09-f6a46287b825"
      },
      "execution_count": 170,
      "outputs": [
        {
          "output_type": "stream",
          "name": "stdout",
          "text": [
            "Model: \"model_13\"\n",
            "_________________________________________________________________\n",
            " Layer (type)                Output Shape              Param #   \n",
            "=================================================================\n",
            " input_10 (InputLayer)       [(None, 5)]               0         \n",
            "                                                                 \n",
            " dense_27 (Dense)            (None, 10)                60        \n",
            "                                                                 \n",
            " dense_28 (Dense)            (None, 20)                220       \n",
            "                                                                 \n",
            " dense_29 (Dense)            (None, 29)                609       \n",
            "                                                                 \n",
            "=================================================================\n",
            "Total params: 889 (3.47 KB)\n",
            "Trainable params: 889 (3.47 KB)\n",
            "Non-trainable params: 0 (0.00 Byte)\n",
            "_________________________________________________________________\n"
          ]
        }
      ]
    },
    {
      "cell_type": "markdown",
      "source": [
        "AutoEncoder"
      ],
      "metadata": {
        "id": "m-PlHCTbVRR0"
      }
    },
    {
      "cell_type": "code",
      "source": [
        "output=decoder(encoder(input_layer))\n",
        "autoencoder=Model(input_layer,output)\n",
        "autoencoder.summary()"
      ],
      "metadata": {
        "colab": {
          "base_uri": "https://localhost:8080/"
        },
        "id": "73TaOba8VQea",
        "outputId": "54f405c3-fec1-4a6b-9461-f502240e3dca"
      },
      "execution_count": 171,
      "outputs": [
        {
          "output_type": "stream",
          "name": "stdout",
          "text": [
            "Model: \"model_14\"\n",
            "_________________________________________________________________\n",
            " Layer (type)                Output Shape              Param #   \n",
            "=================================================================\n",
            " input_layer (InputLayer)    [(None, 29)]              0         \n",
            "                                                                 \n",
            " encoder (Functional)        (None, 5)                 865       \n",
            "                                                                 \n",
            " model_13 (Functional)       (None, 29)                889       \n",
            "                                                                 \n",
            "=================================================================\n",
            "Total params: 1754 (6.85 KB)\n",
            "Trainable params: 1754 (6.85 KB)\n",
            "Non-trainable params: 0 (0.00 Byte)\n",
            "_________________________________________________________________\n"
          ]
        }
      ]
    },
    {
      "cell_type": "markdown",
      "source": [
        "training Autoencoder"
      ],
      "metadata": {
        "id": "dpxSNKsaVnI9"
      }
    },
    {
      "cell_type": "code",
      "source": [
        "autoencoder.compile(optimizer='adam',loss='mean_squared_error',metrics=['accuracy'])\n",
        "\n",
        "history=autoencoder.fit(xtrain,xtrain,\n",
        "                        epochs=epochs,\n",
        "                        batch_size=batch_size,\n",
        "                        shuffle=True,\n",
        "                        validation_data=(xtest,xtest),\n",
        "                        verbose=1).history"
      ],
      "metadata": {
        "colab": {
          "base_uri": "https://localhost:8080/"
        },
        "id": "u3qZus8XVjDO",
        "outputId": "31718b60-06e2-4752-dc18-8d79fe87b6db"
      },
      "execution_count": 172,
      "outputs": [
        {
          "output_type": "stream",
          "name": "stdout",
          "text": [
            "Epoch 1/10\n",
            "2279/2279 [==============================] - 10s 4ms/step - loss: 0.7914 - accuracy: 0.1858 - val_loss: 0.7448 - val_accuracy: 0.2014\n",
            "Epoch 2/10\n",
            "2279/2279 [==============================] - 6s 3ms/step - loss: 0.7295 - accuracy: 0.2131 - val_loss: 0.7239 - val_accuracy: 0.2240\n",
            "Epoch 3/10\n",
            "2279/2279 [==============================] - 9s 4ms/step - loss: 0.7126 - accuracy: 0.2267 - val_loss: 0.7100 - val_accuracy: 0.2269\n",
            "Epoch 4/10\n",
            "2279/2279 [==============================] - 6s 3ms/step - loss: 0.7013 - accuracy: 0.2329 - val_loss: 0.6996 - val_accuracy: 0.2337\n",
            "Epoch 5/10\n",
            "2279/2279 [==============================] - 8s 4ms/step - loss: 0.6912 - accuracy: 0.2335 - val_loss: 0.6905 - val_accuracy: 0.2387\n",
            "Epoch 6/10\n",
            "2279/2279 [==============================] - 7s 3ms/step - loss: 0.6820 - accuracy: 0.2429 - val_loss: 0.6817 - val_accuracy: 0.2540\n",
            "Epoch 7/10\n",
            "2279/2279 [==============================] - 7s 3ms/step - loss: 0.6724 - accuracy: 0.2546 - val_loss: 0.6729 - val_accuracy: 0.2490\n",
            "Epoch 8/10\n",
            "2279/2279 [==============================] - 9s 4ms/step - loss: 0.6634 - accuracy: 0.2633 - val_loss: 0.6632 - val_accuracy: 0.2666\n",
            "Epoch 9/10\n",
            "2279/2279 [==============================] - 7s 3ms/step - loss: 0.6563 - accuracy: 0.2695 - val_loss: 0.6593 - val_accuracy: 0.2755\n",
            "Epoch 10/10\n",
            "2279/2279 [==============================] - 9s 4ms/step - loss: 0.6520 - accuracy: 0.2717 - val_loss: 0.6539 - val_accuracy: 0.2683\n"
          ]
        }
      ]
    },
    {
      "cell_type": "code",
      "source": [
        "predictions = autoencoder.predict(xtest)"
      ],
      "metadata": {
        "colab": {
          "base_uri": "https://localhost:8080/"
        },
        "id": "ZBcl6oqdXXCB",
        "outputId": "38161ee0-39d4-4f69-e58f-1d9546707b3f"
      },
      "execution_count": 173,
      "outputs": [
        {
          "output_type": "stream",
          "name": "stdout",
          "text": [
            "1781/1781 [==============================] - 3s 2ms/step\n"
          ]
        }
      ]
    },
    {
      "cell_type": "code",
      "source": [
        "mse = np.mean(np.power(xtest-predictions,2),axis=1)"
      ],
      "metadata": {
        "id": "q_YCXMd5ZD_0"
      },
      "execution_count": 174,
      "outputs": []
    },
    {
      "cell_type": "code",
      "source": [
        "error_df=pd.DataFrame({'reconstruction_error':mse,'true_class':ytest})\n",
        "error_df_true =error_df[(error_df.true_class==0)]\n",
        "error_df_false=error_df[(error_df.true_class==1)]\n",
        "#error_df\n",
        "print(\"Fraud Sample\",error_df_false.describe())"
      ],
      "metadata": {
        "colab": {
          "base_uri": "https://localhost:8080/"
        },
        "id": "u3ohE67EZasj",
        "outputId": "2b523873-34ee-41e5-97fc-246c756421ba"
      },
      "execution_count": 175,
      "outputs": [
        {
          "output_type": "stream",
          "name": "stdout",
          "text": [
            "Fraud Sample        reconstruction_error  true_class\n",
            "count            104.000000       104.0\n",
            "mean              19.775140         1.0\n",
            "std               26.015725         0.0\n",
            "min                0.177542         1.0\n",
            "25%                2.850412         1.0\n",
            "50%                7.018106         1.0\n",
            "75%               20.025154         1.0\n",
            "max              137.222548         1.0\n"
          ]
        }
      ]
    },
    {
      "cell_type": "code",
      "source": [
        "from sklearn.metrics import confusion_matrix"
      ],
      "metadata": {
        "id": "lqx5KfTcaD08"
      },
      "execution_count": 176,
      "outputs": []
    },
    {
      "cell_type": "code",
      "source": [
        "threshold=0.9\n",
        "groups = error_df.groupby('true_class')\n",
        "y_pred=[1 if e > threshold else 0 for e in error_df.reconstruction_error.values]\n"
      ],
      "metadata": {
        "id": "f3PS_SbfaIe6"
      },
      "execution_count": 177,
      "outputs": []
    },
    {
      "cell_type": "code",
      "source": [
        "from sklearn.metrics import confusion_matrix\n",
        "plt.figure(figsize=(8,8))\n",
        "confusion_matrix=confusion_matrix(error_df.true_class,y_pred)\n",
        "LABELS=['Normal','Fraud']\n",
        "sns.heatmap(confusion_matrix,xticklabels=LABELS,yticklabels=LABELS,annot=True,fmt=\"d\")"
      ],
      "metadata": {
        "colab": {
          "base_uri": "https://localhost:8080/",
          "height": 693
        },
        "id": "NZJRPUwzbxjT",
        "outputId": "980cf466-260b-4718-b11c-40fb2628db80"
      },
      "execution_count": 178,
      "outputs": [
        {
          "output_type": "execute_result",
          "data": {
            "text/plain": [
              "<Axes: >"
            ]
          },
          "metadata": {},
          "execution_count": 178
        },
        {
          "output_type": "display_data",
          "data": {
            "text/plain": [
              "<Figure size 800x800 with 2 Axes>"
            ],
            "image/png": "[encoded data removed]"
          },
          "metadata": {}
        }
      ]
    },
    {
      "cell_type": "code",
      "source": [],
      "metadata": {
        "id": "TnLro9WrckZW"
      },
      "execution_count": 178,
      "outputs": []
    }
  ]
}